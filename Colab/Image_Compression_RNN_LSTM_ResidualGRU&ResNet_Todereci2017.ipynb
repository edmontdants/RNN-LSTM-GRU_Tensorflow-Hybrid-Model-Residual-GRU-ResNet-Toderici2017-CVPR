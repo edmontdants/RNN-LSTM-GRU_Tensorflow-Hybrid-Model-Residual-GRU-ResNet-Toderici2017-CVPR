{
  "nbformat": 4,
  "nbformat_minor": 0,
  "metadata": {
    "colab": {
      "name": "Image_Compression_RNN/LSTM-ResidualGRU&ResNet-Todereci2017.ipynb",
      "provenance": [],
      "collapsed_sections": [],
      "authorship_tag": "ABX9TyPDwdxaUg/Bg6KsAAEmIXhq",
      "include_colab_link": true
    },
    "kernelspec": {
      "name": "python3",
      "display_name": "Python 3"
    },
    "language_info": {
      "name": "python"
    },
    "accelerator": "GPU"
  },
  "cells": [
    {
      "cell_type": "markdown",
      "metadata": {
        "id": "view-in-github",
        "colab_type": "text"
      },
      "source": [
        "<a href=\"https://colab.research.google.com/github/edmontdants/RNN-LSTM-GRU_Tensorflow-Hybrid-Model-Residual-GRU-ResNet-Toderici2017-CVPR/blob/main/Colab/Image_Compression_RNN_LSTM_ResidualGRU%26ResNet_Todereci2017.ipynb\" target=\"_parent\"><img src=\"https://colab.research.google.com/assets/colab-badge.svg\" alt=\"Open In Colab\"/></a>"
      ]
    },
    {
      "cell_type": "code",
      "metadata": {
        "id": "yDncnNGMee_r"
      },
      "source": [
        "import os\n",
        "\n",
        "import numpy as np\n",
        "import tensorflow as tf"
      ],
      "execution_count": 4,
      "outputs": []
    },
    {
      "cell_type": "code",
      "metadata": {
        "colab": {
          "base_uri": "https://localhost:8080/",
          "height": 223
        },
        "id": "BViGjGkHehJK",
        "outputId": "79085c05-d86a-4d7d-cf48-e8a1b34e3fb2"
      },
      "source": [
        "tf.flags.DEFINE_string('input_image', None, 'Location of input image. We rely '\n",
        "                       'on tf.image to decode the image, so only PNG and JPEG '\n",
        "                       'formats are currently supported.')\n",
        "tf.flags.DEFINE_integer('iteration', 15, 'Quality level for encoding image. '\n",
        "                        'Must be between 0 and 15 inclusive.')\n",
        "tf.flags.DEFINE_string('output_codes', None, 'Directory to save decoded '\n",
        "                       'images.')\n",
        "tf.flags.DEFINE_string('model', None, 'Location of compression model.')\n",
        "\n",
        "FLAGS = tf.flags.FLAGS"
      ],
      "execution_count": 8,
      "outputs": [
        {
          "output_type": "error",
          "ename": "AttributeError",
          "evalue": "ignored",
          "traceback": [
            "\u001b[0;31m---------------------------------------------------------------------------\u001b[0m",
            "\u001b[0;31mAttributeError\u001b[0m                            Traceback (most recent call last)",
            "\u001b[0;32m<ipython-input-8-336e00830cda>\u001b[0m in \u001b[0;36m<module>\u001b[0;34m()\u001b[0m\n\u001b[0;32m----> 1\u001b[0;31m tf.app.flags.DEFINE_string('input_image', None, 'Location of input image. We rely '\n\u001b[0m\u001b[1;32m      2\u001b[0m                        \u001b[0;34m'on tf.image to decode the image, so only PNG and JPEG '\u001b[0m\u001b[0;34m\u001b[0m\u001b[0;34m\u001b[0m\u001b[0m\n\u001b[1;32m      3\u001b[0m                        'formats are currently supported.')\n\u001b[1;32m      4\u001b[0m tf.app.flags.DEFINE_integer('iteration', 15, 'Quality level for encoding image. '\n\u001b[1;32m      5\u001b[0m                         'Must be between 0 and 15 inclusive.')\n",
            "\u001b[0;31mAttributeError\u001b[0m: module 'tensorflow' has no attribute 'app'"
          ]
        }
      ]
    },
    {
      "cell_type": "code",
      "metadata": {
        "colab": {
          "base_uri": "https://localhost:8080/",
          "height": 126
        },
        "id": "ExZtvMJvECHj",
        "outputId": "ca77ed0b-bab2-4397-a5fa-652523f91f57"
      },
      "source": [
        "def get_output_tensor_names():\n",
        "  name_list = ['GruBinarizer/SignBinarizer/Sign:0']\n",
        "  for i in xrange(1, 16):\n",
        "    name_list.append('GruBinarizer/SignBinarizer/Sign_{}:0'.format(i))\n",
        "  return name_list"
      ],
      "execution_count": 3,
      "outputs": [
        {
          "output_type": "error",
          "ename": "SyntaxError",
          "evalue": "ignored",
          "traceback": [
            "\u001b[0;36m  File \u001b[0;32m\"<ipython-input-3-0c42eacd5e0b>\"\u001b[0;36m, line \u001b[0;32m1\u001b[0m\n\u001b[0;31m    --input_image=example.png --output_codes=output_codes.npz --iteration=15\u001b[0m\n\u001b[0m                                                                            ^\u001b[0m\n\u001b[0;31mSyntaxError\u001b[0m\u001b[0;31m:\u001b[0m can't assign to operator\n"
          ]
        }
      ]
    },
    {
      "cell_type": "code",
      "metadata": {
        "id": "i_kIcNQ2e38h"
      },
      "source": [
        ""
      ],
      "execution_count": null,
      "outputs": []
    },
    {
      "cell_type": "code",
      "metadata": {
        "id": "aaQk8XwIf5Eb"
      },
      "source": [
        ""
      ],
      "execution_count": null,
      "outputs": []
    },
    {
      "cell_type": "code",
      "metadata": {
        "id": "UmJCdD9gf5Ms"
      },
      "source": [
        ""
      ],
      "execution_count": null,
      "outputs": []
    }
  ]
}